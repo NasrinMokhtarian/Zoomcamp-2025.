{
  "nbformat": 4,
  "nbformat_minor": 0,
  "metadata": {
    "colab": {
      "provenance": [],
      "authorship_tag": "ABX9TyN8difMiVVsR82XWeyD+4Qn",
      "include_colab_link": true
    },
    "kernelspec": {
      "name": "python3",
      "display_name": "Python 3"
    },
    "language_info": {
      "name": "python"
    }
  },
  "cells": [
    {
      "cell_type": "markdown",
      "metadata": {
        "id": "view-in-github",
        "colab_type": "text"
      },
      "source": [
        "<a href=\"https://colab.research.google.com/github/NasrinMokhtarian/Zoomcamp-2025./blob/main/batch_processing/codes/homework.ipynb\" target=\"_parent\"><img src=\"https://colab.research.google.com/assets/colab-badge.svg\" alt=\"Open In Colab\"/></a>"
      ]
    },
    {
      "cell_type": "code",
      "execution_count": null,
      "metadata": {
        "id": "KmkJfrVc9so_"
      },
      "outputs": [],
      "source": [
        "import pyspark, pandas as pd\n",
        "from pyspark.sql import SparkSession, types, functions as F\n",
        "spark = SparkSession.builder.master('local[*]').appName('module5').getOrCreate()"
      ]
    },
    {
      "cell_type": "markdown",
      "source": [
        "#Q1:\n",
        "spark.version"
      ],
      "metadata": {
        "id": "NXSbODMD94kz"
      }
    },
    {
      "cell_type": "code",
      "source": [
        "spark.version"
      ],
      "metadata": {
        "id": "miChhvbS9-yy"
      },
      "execution_count": null,
      "outputs": []
    },
    {
      "cell_type": "markdown",
      "source": [
        "'3.5.5'"
      ],
      "metadata": {
        "id": "kvm7SaAa-HQ6"
      }
    },
    {
      "cell_type": "code",
      "source": [
        "df_y = spark.read.parquet('data/yellow_tripdata_2024-10.parquet')\n",
        "df_y.repartition(4).write.parquet('data/homework/yellow_2024_10','overwrite')\n",
        "df_y.printSchema()"
      ],
      "metadata": {
        "id": "-8j6gyd1-I49"
      },
      "execution_count": null,
      "outputs": []
    },
    {
      "cell_type": "markdown",
      "source": [
        "root\n",
        "  ###### |-- VendorID: integer (nullable = true)\n",
        "  ###### |-- tpep_pickup_datetime: timestamp_ntz (nullable = true)\n",
        " ###### |-- tpep_dropoff_datetime: timestamp_ntz (nullable = true)\n",
        " ###### |-- passenger_count: long (nullable = true)\n",
        " ###### |-- trip_distance: double (nullable = true)\n",
        " ###### |-- RatecodeID: long (nullable = true)\n",
        " ###### |-- store_and_fwd_flag: string (nullable = true)\n",
        " ###### |-- PULocationID: integer (nullable = true)\n",
        " ###### |-- DOLocationID: integer (nullable = true)\n",
        " ###### |-- payment_type: long (nullable = true)\n",
        " ###### |-- fare_amount: double (nullable = true)\n",
        " ###### |-- extra: double (nullable = true)\n",
        " ###### |-- mta_tax: double (nullable = true)\n",
        " ###### |-- tip_amount: double (nullable = true)\n",
        " ###### |-- tolls_amount: double (nullable = true)\n",
        " ###### |-- improvement_surcharge: double (nullable = true)\n",
        " ###### |-- total_amount: double (nullable = true)\n",
        " ###### |-- congestion_surcharge: double (nullable = true)\n",
        " ###### |-- Airport_fee: double (nullable = true)\n",
        "\n",
        "\n"
      ],
      "metadata": {
        "id": "BSat075r-Sz7"
      }
    },
    {
      "cell_type": "markdown",
      "source": [
        "###Q2:\n",
        "Read the October 2024 Yellow into a Spark Dataframe.\n",
        "Repartition the Dataframe to 4 partitions and save it to parquet.\n",
        "What is the average size of the Parquet (ending with .parquet extension) Files that were created (in MB)? Select the answer which most closely matches.\n",
        "\n",
        "1.  6MB\n",
        "2.  25MB\n",
        "3.  75MB\n",
        "4.  100MB\n",
        "\n",
        "\n",
        "\n",
        "> answer is :100MB"
      ],
      "metadata": {
        "id": "QGSJm0YlB3uR"
      }
    },
    {
      "cell_type": "code",
      "source": [
        "df_y.registerTempTable('trip_data')"
      ],
      "metadata": {
        "id": "fidtWXPx_FVB"
      },
      "execution_count": null,
      "outputs": []
    },
    {
      "cell_type": "code",
      "source": [
        "#Q4:\n",
        "trips=spark.sql(\"\"\"\n",
        "select count(*) from trip_data where day(tpep_pickup_datetime)=15\n",
        "\"\"\").show()"
      ],
      "metadata": {
        "id": "ueGn3vkr_JIw"
      },
      "execution_count": null,
      "outputs": []
    },
    {
      "cell_type": "markdown",
      "source": [
        "128893"
      ],
      "metadata": {
        "id": "SE-PyRN-_Mf6"
      }
    },
    {
      "cell_type": "code",
      "source": [
        "#Q5:\n",
        "longest_trip=spark.sql(\"\"\"\n",
        "select  MAX((UNIX_TIMESTAMP(tpep_dropoff_datetime)-UNIX_TIMESTAMP(tpep_pickup_datetime))/3600) as longest_trip\n",
        "from trip_data\n",
        "\n",
        "\"\"\").show()"
      ],
      "metadata": {
        "id": "yYNrzDnE_NbO"
      },
      "execution_count": null,
      "outputs": []
    },
    {
      "cell_type": "markdown",
      "source": [
        "162.61777777777777"
      ],
      "metadata": {
        "id": "n6lreQyj_Q14"
      }
    },
    {
      "cell_type": "code",
      "source": [
        "df_zone = spark.read.option('header','true').csv('taxi_zone_lookup.csv')\n",
        "df_join = df_y.join(df_zone,df_y.PULocationID==df_zone.LocationID)\n",
        "df_join.show()\n",
        "df_join.registerTempTable('joined')"
      ],
      "metadata": {
        "id": "NiZw4AT4_WLp"
      },
      "execution_count": null,
      "outputs": []
    },
    {
      "cell_type": "code",
      "source": [
        "#Q6:\n",
        "spark.sql(\"\"\"\n",
        "select Zone, count(tpep_pickup_datetime) as frequency\n",
        "from joined\n",
        "group by Zone\n",
        "order by 2\n",
        "\"\"\").show()"
      ],
      "metadata": {
        "id": "Ov0xOCTQ_flL"
      },
      "execution_count": null,
      "outputs": []
    },
    {
      "cell_type": "markdown",
      "source": [
        "Governor's Island..."
      ],
      "metadata": {
        "id": "j2Mxuxwh_gYR"
      }
    }
  ]
}