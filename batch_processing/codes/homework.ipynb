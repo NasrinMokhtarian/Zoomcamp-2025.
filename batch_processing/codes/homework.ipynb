{
  "nbformat": 4,
  "nbformat_minor": 0,
  "metadata": {
    "colab": {
      "provenance": [],
      "authorship_tag": "ABX9TyNGcKHiY0KXomK5FZFk6GTd",
      "include_colab_link": true
    },
    "kernelspec": {
      "name": "python3",
      "display_name": "Python 3"
    },
    "language_info": {
      "name": "python"
    }
  },
  "cells": [
    {
      "cell_type": "markdown",
      "metadata": {
        "id": "view-in-github",
        "colab_type": "text"
      },
      "source": [
        "<a href=\"https://colab.research.google.com/github/NasrinMokhtarian/Zoomcamp-2025./blob/main/batch_processing/codes/homework.ipynb\" target=\"_parent\"><img src=\"https://colab.research.google.com/assets/colab-badge.svg\" alt=\"Open In Colab\"/></a>"
      ]
    },
    {
      "cell_type": "code",
      "execution_count": null,
      "metadata": {
        "id": "KmkJfrVc9so_"
      },
      "outputs": [],
      "source": [
        "import pyspark, pandas as pd\n",
        "from pyspark.sql import SparkSession, types, functions as F\n",
        "spark = SparkSession.builder.master('local[*]').appName('module5').getOrCreate()"
      ]
    },
    {
      "cell_type": "markdown",
      "source": [
        "####Q1:spark.version\n",
        ". answer: '3.5.5'"
      ],
      "metadata": {
        "id": "NXSbODMD94kz"
      }
    },
    {
      "cell_type": "code",
      "source": [
        "spark.version"
      ],
      "metadata": {
        "id": "miChhvbS9-yy"
      },
      "execution_count": null,
      "outputs": []
    },
    {
      "cell_type": "code",
      "source": [
        "df_y = spark.read.parquet('data/yellow_tripdata_2024-10.parquet')\n",
        "df_y.repartition(4).write.parquet('data/homework/yellow_2024_10','overwrite')\n",
        "df_y.printSchema()"
      ],
      "metadata": {
        "id": "-8j6gyd1-I49"
      },
      "execution_count": null,
      "outputs": []
    },
    {
      "cell_type": "markdown",
      "source": [
        "root\n",
        "  ###### |-- VendorID: integer (nullable = true)\n",
        "  ###### |-- tpep_pickup_datetime: timestamp_ntz (nullable = true)\n",
        " ###### |-- tpep_dropoff_datetime: timestamp_ntz (nullable = true)\n",
        " ###### |-- passenger_count: long (nullable = true)\n",
        " ###### |-- trip_distance: double (nullable = true)\n",
        " ###### |-- RatecodeID: long (nullable = true)\n",
        " ###### |-- store_and_fwd_flag: string (nullable = true)\n",
        " ###### |-- PULocationID: integer (nullable = true)\n",
        " ###### |-- DOLocationID: integer (nullable = true)\n",
        " ###### |-- payment_type: long (nullable = true)\n",
        " ###### |-- fare_amount: double (nullable = true)\n",
        " ###### |-- extra: double (nullable = true)\n",
        " ###### |-- mta_tax: double (nullable = true)\n",
        " ###### |-- tip_amount: double (nullable = true)\n",
        " ###### |-- tolls_amount: double (nullable = true)\n",
        " ###### |-- improvement_surcharge: double (nullable = true)\n",
        " ###### |-- total_amount: double (nullable = true)\n",
        " ###### |-- congestion_surcharge: double (nullable = true)\n",
        " ###### |-- Airport_fee: double (nullable = true)\n",
        "\n",
        "\n"
      ],
      "metadata": {
        "id": "BSat075r-Sz7"
      }
    },
    {
      "cell_type": "markdown",
      "source": [
        "####Q2:\n",
        "Read the October 2024 Yellow into a Spark Dataframe.\n",
        "Repartition the Dataframe to 4 partitions and save it to parquet.\n",
        "What is the average size of the Parquet (ending with .parquet extension) Files that were created (in MB)? Select the answer which most closely matches.\n",
        "\n",
        "1.  6MB\n",
        "2.  25MB\n",
        "3.  75MB\n",
        "4.  100MB\n",
        "\n",
        "\n",
        "\n",
        "> answer is :100MB"
      ],
      "metadata": {
        "id": "QGSJm0YlB3uR"
      }
    },
    {
      "cell_type": "code",
      "source": [
        "df_y.registerTempTable('trip_data')"
      ],
      "metadata": {
        "id": "fidtWXPx_FVB"
      },
      "execution_count": null,
      "outputs": []
    },
    {
      "cell_type": "markdown",
      "source": [
        "####Q3:How many taxi trips were there on the 15th of October?\n",
        "\n",
        "Consider only trips that started on the 15th of October.\n",
        "\n",
        "\n",
        "1. 85,567\n",
        "2. 105,567\n",
        "3. 125,567\n",
        "4. 145,567\n"
      ],
      "metadata": {
        "id": "StMEo1t2n7-g"
      }
    },
    {
      "cell_type": "code",
      "source": [
        "\n",
        "trips=spark.sql(\"\"\"\n",
        "select count(*) from trip_data where day(tpep_pickup_datetime)=15\n",
        "\"\"\").show()"
      ],
      "metadata": {
        "id": "ueGn3vkr_JIw"
      },
      "execution_count": null,
      "outputs": []
    },
    {
      "cell_type": "markdown",
      "source": [
        "128893"
      ],
      "metadata": {
        "id": "SE-PyRN-_Mf6"
      }
    },
    {
      "cell_type": "markdown",
      "source": [
        "####Q4:What is the length of the longest trip in the dataset in hours?\n",
        "\n",
        "1. 122\n",
        "2. 142\n",
        "3. 162\n",
        "4. 182"
      ],
      "metadata": {
        "id": "RyrYseq7oj4u"
      }
    },
    {
      "cell_type": "code",
      "source": [
        "\n",
        "longest_trip=spark.sql(\"\"\"\n",
        "select  MAX((UNIX_TIMESTAMP(tpep_dropoff_datetime)-UNIX_TIMESTAMP(tpep_pickup_datetime))/3600) as longest_trip\n",
        "from trip_data\n",
        "\n",
        "\"\"\").show()"
      ],
      "metadata": {
        "id": "yYNrzDnE_NbO"
      },
      "execution_count": null,
      "outputs": []
    },
    {
      "cell_type": "markdown",
      "source": [
        "162.61777777777777"
      ],
      "metadata": {
        "id": "n6lreQyj_Q14"
      }
    },
    {
      "cell_type": "markdown",
      "source": [
        "####Q5:Spark’s User Interface which shows the application's dashboard runs on which local port?\n",
        "\n",
        "1. 80\n",
        "2. 443\n",
        "3. 4040\n",
        "4. 8080\n",
        "\n",
        "\n",
        " .  answer:4040"
      ],
      "metadata": {
        "id": "xE_fUH2LpFqQ"
      }
    },
    {
      "cell_type": "markdown",
      "source": [
        "####Q:6Using the zone lookup data and the Yellow October 2024 data, what is the name of the LEAST frequent pickup location Zone?\n",
        "\n",
        "1. Governor's Island/Ellis Island/Liberty Island\n",
        "2. Arden Heights\n",
        "3. Rikers Island\n",
        "4. Jamaica Bay\n",
        "\n",
        "  .  answer:Governor's Island/Ellis Island/Liberty Island"
      ],
      "metadata": {
        "id": "4G2B0Jhxpc9G"
      }
    },
    {
      "cell_type": "code",
      "source": [
        "df_zone = spark.read.option('header','true').csv('taxi_zone_lookup.csv')\n",
        "df_join = df_y.join(df_zone,df_y.PULocationID==df_zone.LocationID)\n",
        "df_join.show()\n",
        "df_join.registerTempTable('joined')"
      ],
      "metadata": {
        "id": "NiZw4AT4_WLp"
      },
      "execution_count": null,
      "outputs": []
    },
    {
      "cell_type": "code",
      "source": [
        "spark.sql(\"\"\"\n",
        "select Zone, count(tpep_pickup_datetime) as frequency\n",
        "from joined\n",
        "group by Zone\n",
        "order by 2\n",
        "\"\"\").show()"
      ],
      "metadata": {
        "id": "Ov0xOCTQ_flL"
      },
      "execution_count": null,
      "outputs": []
    }
  ]
}